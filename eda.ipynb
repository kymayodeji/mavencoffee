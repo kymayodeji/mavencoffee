{
 "cells": [
  {
   "cell_type": "code",
   "execution_count": 1,
   "metadata": {},
   "outputs": [],
   "source": [
    "# Import Libraries\n",
    "# Numerical\n",
    "import numpy as np\n",
    "import pandas as pd\n",
    "\n",
    "# Graphing\n",
    "import matplotlib.pyplot as plt\n",
    "import seaborn as sns\n",
    "\n",
    "# Encoding\n",
    "from sklearn.preprocessing import LabelEncoder\n",
    "\n",
    "# Clustering & PCA\n",
    "from sklearn.preprocessing import StandardScaler\n",
    "from sklearn.decomposition import PCA\n",
    "from sklearn.cluster import KMeans "
   ]
  },
  {
   "cell_type": "markdown",
   "metadata": {},
   "source": [
    "### Pre-defined Functions"
   ]
  },
  {
   "cell_type": "code",
   "execution_count": 43,
   "metadata": {},
   "outputs": [],
   "source": [
    "def eda_subplots(data_df, graph_type='pie'):\n",
    "    # Define the layout of subplots\n",
    "    # Determine the number of subplot rows/columns needed\n",
    "    num_columns = len(data_df.columns)\n",
    "    # For simplicity, creating a square layout or as close to square as possible\n",
    "    n_cols = int(np.ceil(np.sqrt(num_columns)))\n",
    "    n_rows = int(np.ceil(num_columns / n_cols))\n",
    "\n",
    "    # Creating the figure and axes for subplots\n",
    "    fig, axes = plt.subplots(nrows=n_rows, ncols=n_cols, figsize=(7*n_rows, 3*n_cols))\n",
    "\n",
    "    # Iterate over each column to plot\n",
    "    for i, column in enumerate(data_df.columns):\n",
    "        # Aggregate data\n",
    "        data = data_df[column].value_counts()\n",
    "    \n",
    "        # Check if axes is a single-dimensional array\n",
    "        if n_rows == 1 or n_cols == 1:\n",
    "            ax = axes[i]\n",
    "        else:\n",
    "            # For a 2D array of subplots, index with row and column\n",
    "            row, col = i // n_cols, i % n_cols\n",
    "            ax = axes[row, col]\n",
    "    \n",
    "        # Plot chart on the correct axis\n",
    "        if graph_type == 'pie':\n",
    "            ax.pie(data, labels=data.index, autopct='%1.1f%%', startangle=90)\n",
    "        elif graph_type=='bar':\n",
    "            ax.bar(data.index, data)\n",
    "        else:\n",
    "            ax.plot(data.index, data)\n",
    "        ax.set_title(f'Pie Chart for {column}')\n",
    "\n",
    "    plt.tight_layout()\n",
    "    plt.show()\n"
   ]
  },
  {
   "cell_type": "markdown",
   "metadata": {},
   "source": [
    "## 1.0 Load Datasets"
   ]
  },
  {
   "cell_type": "code",
   "execution_count": 44,
   "metadata": {},
   "outputs": [
    {
     "data": {
      "text/html": [
       "<div>\n",
       "<style scoped>\n",
       "    .dataframe tbody tr th:only-of-type {\n",
       "        vertical-align: middle;\n",
       "    }\n",
       "\n",
       "    .dataframe tbody tr th {\n",
       "        vertical-align: top;\n",
       "    }\n",
       "\n",
       "    .dataframe thead th {\n",
       "        text-align: right;\n",
       "    }\n",
       "</style>\n",
       "<table border=\"1\" class=\"dataframe\">\n",
       "  <thead>\n",
       "    <tr style=\"text-align: right;\">\n",
       "      <th></th>\n",
       "      <th>Question Order</th>\n",
       "      <th>Question</th>\n",
       "      <th>Survey Section</th>\n",
       "      <th>Question Type</th>\n",
       "      <th>Answer Choices</th>\n",
       "      <th>Notes</th>\n",
       "    </tr>\n",
       "  </thead>\n",
       "  <tbody>\n",
       "    <tr>\n",
       "      <th>0</th>\n",
       "      <td>1</td>\n",
       "      <td>What is your age?</td>\n",
       "      <td>Background Information</td>\n",
       "      <td>Single select</td>\n",
       "      <td>&lt;18 years old, 18-24, 25-34, 35-44, 45-54, 55-...</td>\n",
       "      <td>NaN</td>\n",
       "    </tr>\n",
       "    <tr>\n",
       "      <th>1</th>\n",
       "      <td>2</td>\n",
       "      <td>How many cups of coffee do you typically drink...</td>\n",
       "      <td>Background Information</td>\n",
       "      <td>Single select</td>\n",
       "      <td>Less than 1, 1, 2, 3, 4, More than 4</td>\n",
       "      <td>NaN</td>\n",
       "    </tr>\n",
       "    <tr>\n",
       "      <th>2</th>\n",
       "      <td>3</td>\n",
       "      <td>Where do you typically drink coffee?</td>\n",
       "      <td>Background Information</td>\n",
       "      <td>Multiple selection</td>\n",
       "      <td>None of these, At home, At a cafe, On the go, ...</td>\n",
       "      <td>NaN</td>\n",
       "    </tr>\n",
       "    <tr>\n",
       "      <th>3</th>\n",
       "      <td>4</td>\n",
       "      <td>On the go, where do you typically purchase cof...</td>\n",
       "      <td>Background Information</td>\n",
       "      <td>Multiple selection</td>\n",
       "      <td>Other, Drive-thru, Specialty coffee shop, Nati...</td>\n",
       "      <td>Only available if \"On the go\" was selected in ...</td>\n",
       "    </tr>\n",
       "    <tr>\n",
       "      <th>4</th>\n",
       "      <td>5</td>\n",
       "      <td>Where else do you purchase coffee?</td>\n",
       "      <td>Background Information</td>\n",
       "      <td>Text</td>\n",
       "      <td>NaN</td>\n",
       "      <td>Only available if \"Other\" was selected in ques...</td>\n",
       "    </tr>\n",
       "  </tbody>\n",
       "</table>\n",
       "</div>"
      ],
      "text/plain": [
       "   Question Order                                           Question  \\\n",
       "0               1                                  What is your age?   \n",
       "1               2  How many cups of coffee do you typically drink...   \n",
       "2               3               Where do you typically drink coffee?   \n",
       "3               4  On the go, where do you typically purchase cof...   \n",
       "4               5                 Where else do you purchase coffee?   \n",
       "\n",
       "           Survey Section       Question Type  \\\n",
       "0  Background Information       Single select   \n",
       "1  Background Information       Single select   \n",
       "2  Background Information  Multiple selection   \n",
       "3  Background Information  Multiple selection   \n",
       "4  Background Information                Text   \n",
       "\n",
       "                                      Answer Choices  \\\n",
       "0  <18 years old, 18-24, 25-34, 35-44, 45-54, 55-...   \n",
       "1               Less than 1, 1, 2, 3, 4, More than 4   \n",
       "2  None of these, At home, At a cafe, On the go, ...   \n",
       "3  Other, Drive-thru, Specialty coffee shop, Nati...   \n",
       "4                                                NaN   \n",
       "\n",
       "                                               Notes  \n",
       "0                                                NaN  \n",
       "1                                                NaN  \n",
       "2                                                NaN  \n",
       "3  Only available if \"On the go\" was selected in ...  \n",
       "4  Only available if \"Other\" was selected in ques...  "
      ]
     },
     "execution_count": 44,
     "metadata": {},
     "output_type": "execute_result"
    }
   ],
   "source": [
    "data_key = pd.read_csv(\"data/QUESTION_KEY.csv\")\n",
    "data_key.head()"
   ]
  },
  {
   "cell_type": "code",
   "execution_count": 45,
   "metadata": {},
   "outputs": [
    {
     "data": {
      "text/html": [
       "<div>\n",
       "<style scoped>\n",
       "    .dataframe tbody tr th:only-of-type {\n",
       "        vertical-align: middle;\n",
       "    }\n",
       "\n",
       "    .dataframe tbody tr th {\n",
       "        vertical-align: top;\n",
       "    }\n",
       "\n",
       "    .dataframe thead th {\n",
       "        text-align: right;\n",
       "    }\n",
       "</style>\n",
       "<table border=\"1\" class=\"dataframe\">\n",
       "  <thead>\n",
       "    <tr style=\"text-align: right;\">\n",
       "      <th></th>\n",
       "      <th>Submission ID</th>\n",
       "      <th>What is your age?</th>\n",
       "      <th>How many cups of coffee do you typically drink per day?</th>\n",
       "      <th>Where do you typically drink coffee?</th>\n",
       "      <th>Where do you typically drink coffee? (At home)</th>\n",
       "      <th>Where do you typically drink coffee? (At the office)</th>\n",
       "      <th>Where do you typically drink coffee? (On the go)</th>\n",
       "      <th>Where do you typically drink coffee? (At a cafe)</th>\n",
       "      <th>Where do you typically drink coffee? (None of these)</th>\n",
       "      <th>How do you brew coffee at home?</th>\n",
       "      <th>...</th>\n",
       "      <th>What is the most you'd ever be willing to pay for a cup of coffee?</th>\n",
       "      <th>Do you feel like you’re getting good value for your money when you buy coffee at a cafe?</th>\n",
       "      <th>Approximately how much have you spent on coffee equipment in the past 5 years?</th>\n",
       "      <th>Do you feel like you’re getting good value for your money with regards to your coffee equipment?</th>\n",
       "      <th>Gender</th>\n",
       "      <th>Education Level</th>\n",
       "      <th>Ethnicity/Race</th>\n",
       "      <th>Employment Status</th>\n",
       "      <th>Number of Children</th>\n",
       "      <th>Political Affiliation</th>\n",
       "    </tr>\n",
       "  </thead>\n",
       "  <tbody>\n",
       "    <tr>\n",
       "      <th>0</th>\n",
       "      <td>gMR29l</td>\n",
       "      <td>18-24 years old</td>\n",
       "      <td>NaN</td>\n",
       "      <td>NaN</td>\n",
       "      <td>NaN</td>\n",
       "      <td>NaN</td>\n",
       "      <td>NaN</td>\n",
       "      <td>NaN</td>\n",
       "      <td>NaN</td>\n",
       "      <td>NaN</td>\n",
       "      <td>...</td>\n",
       "      <td>NaN</td>\n",
       "      <td>NaN</td>\n",
       "      <td>NaN</td>\n",
       "      <td>NaN</td>\n",
       "      <td>NaN</td>\n",
       "      <td>NaN</td>\n",
       "      <td>NaN</td>\n",
       "      <td>NaN</td>\n",
       "      <td>NaN</td>\n",
       "      <td>NaN</td>\n",
       "    </tr>\n",
       "    <tr>\n",
       "      <th>1</th>\n",
       "      <td>BkPN0e</td>\n",
       "      <td>25-34 years old</td>\n",
       "      <td>NaN</td>\n",
       "      <td>NaN</td>\n",
       "      <td>NaN</td>\n",
       "      <td>NaN</td>\n",
       "      <td>NaN</td>\n",
       "      <td>NaN</td>\n",
       "      <td>NaN</td>\n",
       "      <td>Pod/capsule machine (e.g. Keurig/Nespresso)</td>\n",
       "      <td>...</td>\n",
       "      <td>NaN</td>\n",
       "      <td>NaN</td>\n",
       "      <td>NaN</td>\n",
       "      <td>NaN</td>\n",
       "      <td>NaN</td>\n",
       "      <td>NaN</td>\n",
       "      <td>NaN</td>\n",
       "      <td>NaN</td>\n",
       "      <td>NaN</td>\n",
       "      <td>NaN</td>\n",
       "    </tr>\n",
       "    <tr>\n",
       "      <th>2</th>\n",
       "      <td>W5G8jj</td>\n",
       "      <td>25-34 years old</td>\n",
       "      <td>NaN</td>\n",
       "      <td>NaN</td>\n",
       "      <td>NaN</td>\n",
       "      <td>NaN</td>\n",
       "      <td>NaN</td>\n",
       "      <td>NaN</td>\n",
       "      <td>NaN</td>\n",
       "      <td>Bean-to-cup machine</td>\n",
       "      <td>...</td>\n",
       "      <td>NaN</td>\n",
       "      <td>NaN</td>\n",
       "      <td>NaN</td>\n",
       "      <td>NaN</td>\n",
       "      <td>NaN</td>\n",
       "      <td>NaN</td>\n",
       "      <td>NaN</td>\n",
       "      <td>NaN</td>\n",
       "      <td>NaN</td>\n",
       "      <td>NaN</td>\n",
       "    </tr>\n",
       "    <tr>\n",
       "      <th>3</th>\n",
       "      <td>4xWgGr</td>\n",
       "      <td>35-44 years old</td>\n",
       "      <td>NaN</td>\n",
       "      <td>NaN</td>\n",
       "      <td>NaN</td>\n",
       "      <td>NaN</td>\n",
       "      <td>NaN</td>\n",
       "      <td>NaN</td>\n",
       "      <td>NaN</td>\n",
       "      <td>Coffee brewing machine (e.g. Mr. Coffee)</td>\n",
       "      <td>...</td>\n",
       "      <td>NaN</td>\n",
       "      <td>NaN</td>\n",
       "      <td>NaN</td>\n",
       "      <td>NaN</td>\n",
       "      <td>NaN</td>\n",
       "      <td>NaN</td>\n",
       "      <td>NaN</td>\n",
       "      <td>NaN</td>\n",
       "      <td>NaN</td>\n",
       "      <td>NaN</td>\n",
       "    </tr>\n",
       "    <tr>\n",
       "      <th>4</th>\n",
       "      <td>QD27Q8</td>\n",
       "      <td>25-34 years old</td>\n",
       "      <td>NaN</td>\n",
       "      <td>NaN</td>\n",
       "      <td>NaN</td>\n",
       "      <td>NaN</td>\n",
       "      <td>NaN</td>\n",
       "      <td>NaN</td>\n",
       "      <td>NaN</td>\n",
       "      <td>Pour over</td>\n",
       "      <td>...</td>\n",
       "      <td>NaN</td>\n",
       "      <td>NaN</td>\n",
       "      <td>NaN</td>\n",
       "      <td>NaN</td>\n",
       "      <td>NaN</td>\n",
       "      <td>NaN</td>\n",
       "      <td>NaN</td>\n",
       "      <td>NaN</td>\n",
       "      <td>NaN</td>\n",
       "      <td>NaN</td>\n",
       "    </tr>\n",
       "  </tbody>\n",
       "</table>\n",
       "<p>5 rows × 111 columns</p>\n",
       "</div>"
      ],
      "text/plain": [
       "  Submission ID What is your age?  \\\n",
       "0        gMR29l   18-24 years old   \n",
       "1        BkPN0e   25-34 years old   \n",
       "2        W5G8jj   25-34 years old   \n",
       "3        4xWgGr   35-44 years old   \n",
       "4        QD27Q8   25-34 years old   \n",
       "\n",
       "  How many cups of coffee do you typically drink per day?  \\\n",
       "0                                                NaN        \n",
       "1                                                NaN        \n",
       "2                                                NaN        \n",
       "3                                                NaN        \n",
       "4                                                NaN        \n",
       "\n",
       "  Where do you typically drink coffee?  \\\n",
       "0                                  NaN   \n",
       "1                                  NaN   \n",
       "2                                  NaN   \n",
       "3                                  NaN   \n",
       "4                                  NaN   \n",
       "\n",
       "  Where do you typically drink coffee? (At home)  \\\n",
       "0                                            NaN   \n",
       "1                                            NaN   \n",
       "2                                            NaN   \n",
       "3                                            NaN   \n",
       "4                                            NaN   \n",
       "\n",
       "  Where do you typically drink coffee? (At the office)  \\\n",
       "0                                                NaN     \n",
       "1                                                NaN     \n",
       "2                                                NaN     \n",
       "3                                                NaN     \n",
       "4                                                NaN     \n",
       "\n",
       "  Where do you typically drink coffee? (On the go)  \\\n",
       "0                                              NaN   \n",
       "1                                              NaN   \n",
       "2                                              NaN   \n",
       "3                                              NaN   \n",
       "4                                              NaN   \n",
       "\n",
       "  Where do you typically drink coffee? (At a cafe)  \\\n",
       "0                                              NaN   \n",
       "1                                              NaN   \n",
       "2                                              NaN   \n",
       "3                                              NaN   \n",
       "4                                              NaN   \n",
       "\n",
       "  Where do you typically drink coffee? (None of these)  \\\n",
       "0                                                NaN     \n",
       "1                                                NaN     \n",
       "2                                                NaN     \n",
       "3                                                NaN     \n",
       "4                                                NaN     \n",
       "\n",
       "               How do you brew coffee at home?  ...  \\\n",
       "0                                          NaN  ...   \n",
       "1  Pod/capsule machine (e.g. Keurig/Nespresso)  ...   \n",
       "2                          Bean-to-cup machine  ...   \n",
       "3     Coffee brewing machine (e.g. Mr. Coffee)  ...   \n",
       "4                                    Pour over  ...   \n",
       "\n",
       "  What is the most you'd ever be willing to pay for a cup of coffee?  \\\n",
       "0                                                NaN                   \n",
       "1                                                NaN                   \n",
       "2                                                NaN                   \n",
       "3                                                NaN                   \n",
       "4                                                NaN                   \n",
       "\n",
       "  Do you feel like you’re getting good value for your money when you buy coffee at a cafe?  \\\n",
       "0                                                NaN                                         \n",
       "1                                                NaN                                         \n",
       "2                                                NaN                                         \n",
       "3                                                NaN                                         \n",
       "4                                                NaN                                         \n",
       "\n",
       "  Approximately how much have you spent on coffee equipment in the past 5 years?  \\\n",
       "0                                                NaN                               \n",
       "1                                                NaN                               \n",
       "2                                                NaN                               \n",
       "3                                                NaN                               \n",
       "4                                                NaN                               \n",
       "\n",
       "  Do you feel like you’re getting good value for your money with regards to your coffee equipment?  \\\n",
       "0                                                NaN                                                 \n",
       "1                                                NaN                                                 \n",
       "2                                                NaN                                                 \n",
       "3                                                NaN                                                 \n",
       "4                                                NaN                                                 \n",
       "\n",
       "  Gender Education Level Ethnicity/Race Employment Status Number of Children  \\\n",
       "0    NaN             NaN            NaN               NaN                NaN   \n",
       "1    NaN             NaN            NaN               NaN                NaN   \n",
       "2    NaN             NaN            NaN               NaN                NaN   \n",
       "3    NaN             NaN            NaN               NaN                NaN   \n",
       "4    NaN             NaN            NaN               NaN                NaN   \n",
       "\n",
       "  Political Affiliation  \n",
       "0                   NaN  \n",
       "1                   NaN  \n",
       "2                   NaN  \n",
       "3                   NaN  \n",
       "4                   NaN  \n",
       "\n",
       "[5 rows x 111 columns]"
      ]
     },
     "execution_count": 45,
     "metadata": {},
     "output_type": "execute_result"
    }
   ],
   "source": [
    "data = pd.read_csv(\"data/GACTT_RESULTS_ANONYMIZED_v2.csv\", sep=',')\n",
    "data.head()"
   ]
  },
  {
   "cell_type": "markdown",
   "metadata": {},
   "source": [
    "## 2.0 Data Exploration"
   ]
  },
  {
   "cell_type": "code",
   "execution_count": 46,
   "metadata": {},
   "outputs": [
    {
     "name": "stdout",
     "output_type": "stream",
     "text": [
      "<class 'pandas.core.frame.DataFrame'>\n",
      "RangeIndex: 56 entries, 0 to 55\n",
      "Data columns (total 6 columns):\n",
      " #   Column          Non-Null Count  Dtype \n",
      "---  ------          --------------  ----- \n",
      " 0   Question Order  56 non-null     int64 \n",
      " 1   Question        56 non-null     object\n",
      " 2   Survey Section  56 non-null     object\n",
      " 3   Question Type   56 non-null     object\n",
      " 4   Answer Choices  46 non-null     object\n",
      " 5   Notes           10 non-null     object\n",
      "dtypes: int64(1), object(5)\n",
      "memory usage: 2.8+ KB\n"
     ]
    }
   ],
   "source": [
    "data_key.info()"
   ]
  },
  {
   "cell_type": "code",
   "execution_count": 47,
   "metadata": {},
   "outputs": [
    {
     "name": "stdout",
     "output_type": "stream",
     "text": [
      "<class 'pandas.core.frame.DataFrame'>\n",
      "RangeIndex: 4042 entries, 0 to 4041\n",
      "Columns: 111 entries, Submission ID to Political Affiliation\n",
      "dtypes: float64(21), object(90)\n",
      "memory usage: 3.4+ MB\n"
     ]
    }
   ],
   "source": [
    "data.info()"
   ]
  },
  {
   "cell_type": "markdown",
   "metadata": {},
   "source": [
    "Separate data into participant deomgraphics, basic survey info, and coffee related info"
   ]
  },
  {
   "cell_type": "code",
   "execution_count": 48,
   "metadata": {},
   "outputs": [],
   "source": [
    "desc_columns = [0, 1, 2, 89, 105, 106, 107, 108, 109, 110]\n",
    "desc_df = data.iloc[:, desc_columns]\n",
    "survey_columns = [20, 29, 65, 66, 67, 68, 69, 90, 98, 99, 100, 101, 102, 103, 104]\n",
    "survey_df = data.iloc[:, survey_columns]\n",
    "survey_enc_columns = [3,9,21,31, 38, 48,57,91]\n",
    "coffee_survey_df = data.iloc[:, survey_columns + survey_enc_columns]\n",
    "ds_data = data.iloc[:, desc_columns + survey_columns + survey_enc_columns]"
   ]
  },
  {
   "cell_type": "markdown",
   "metadata": {},
   "source": [
    "### 2.1A Participant Descriptive Information"
   ]
  },
  {
   "cell_type": "code",
   "execution_count": 49,
   "metadata": {},
   "outputs": [
    {
     "name": "stdout",
     "output_type": "stream",
     "text": [
      "<class 'pandas.core.frame.DataFrame'>\n",
      "RangeIndex: 4042 entries, 0 to 4041\n",
      "Data columns (total 33 columns):\n",
      " #   Column                                                                                            Non-Null Count  Dtype  \n",
      "---  ------                                                                                            --------------  -----  \n",
      " 0   Submission ID                                                                                     4042 non-null   object \n",
      " 1   What is your age?                                                                                 4011 non-null   object \n",
      " 2   How many cups of coffee do you typically drink per day?                                           3949 non-null   object \n",
      " 3   Do you work from home or in person?                                                               3524 non-null   object \n",
      " 4   Gender                                                                                            3523 non-null   object \n",
      " 5   Education Level                                                                                   3438 non-null   object \n",
      " 6   Ethnicity/Race                                                                                    3418 non-null   object \n",
      " 7   Employment Status                                                                                 3419 non-null   object \n",
      " 8   Number of Children                                                                                3406 non-null   object \n",
      " 9   Political Affiliation                                                                             3289 non-null   object \n",
      " 10  How else do you brew coffee at home?                                                              678 non-null    object \n",
      " 11  What is your favorite coffee drink?                                                               3980 non-null   object \n",
      " 12  Before today's tasting, which of the following best described what kind of coffee you like?       3958 non-null   object \n",
      " 13  How strong do you like your coffee?                                                               3916 non-null   object \n",
      " 14  What roast level of coffee do you prefer?                                                         3940 non-null   object \n",
      " 15  How much caffeine do you like in your coffee?                                                     3917 non-null   object \n",
      " 16  Lastly, how would you rate your own coffee expertise?                                             3938 non-null   float64\n",
      " 17  In total, much money do you typically spend on coffee in a month?                                 3511 non-null   object \n",
      " 18  Do you like the taste of coffee?                                                                  3563 non-null   object \n",
      " 19  Do you know where your coffee comes from?                                                         3559 non-null   object \n",
      " 20  What is the most you've ever paid for a cup of coffee?                                            3527 non-null   object \n",
      " 21  What is the most you'd ever be willing to pay for a cup of coffee?                                3510 non-null   object \n",
      " 22  Do you feel like you’re getting good value for your money when you buy coffee at a cafe?          3500 non-null   object \n",
      " 23  Approximately how much have you spent on coffee equipment in the past 5 years?                    3506 non-null   object \n",
      " 24  Do you feel like you’re getting good value for your money with regards to your coffee equipment?  3494 non-null   object \n",
      " 25  Where do you typically drink coffee?                                                              3972 non-null   object \n",
      " 26  How do you brew coffee at home?                                                                   3657 non-null   object \n",
      " 27  On the go, where do you typically purchase coffee?                                                710 non-null    object \n",
      " 28  Do you usually add anything to your coffee?                                                       3959 non-null   object \n",
      " 29  What kind of dairy do you add?                                                                    1686 non-null   object \n",
      " 30  What kind of sugar or sweetener do you add?                                                       512 non-null    object \n",
      " 31  What kind of flavorings do you add?                                                               0 non-null      float64\n",
      " 32  Why do you drink coffee?                                                                          3568 non-null   object \n",
      "dtypes: float64(2), object(31)\n",
      "memory usage: 1.0+ MB\n"
     ]
    }
   ],
   "source": [
    "ds_data.info()"
   ]
  },
  {
   "cell_type": "code",
   "execution_count": 50,
   "metadata": {},
   "outputs": [
    {
     "name": "stdout",
     "output_type": "stream",
     "text": [
      "ID - Submission ID\n",
      "Age - What is your age?\n",
      "DailyCoffeeCups - How many cups of coffee do you typically drink per day?\n",
      "WorkMode - Do you work from home or in person?\n",
      "Gender - Gender\n",
      "HighestEducation - Education Level\n",
      "Race - Ethnicity/Race\n",
      "Employment - Employment Status\n",
      "Children - Number of Children\n",
      "Political - Political Affiliation\n",
      "HomeBrewCoffee - How else do you brew coffee at home?\n",
      "FavoriteCoffeeDrink - What is your favorite coffee drink?\n",
      "Pre_PreferredCoffee - Before today's tasting, which of the following best described what kind of coffee you like?\n",
      "CoffeeStrength - How strong do you like your coffee?\n",
      "RoastLevel - What roast level of coffee do you prefer?\n",
      "CaffeineAmount - How much caffeine do you like in your coffee?\n",
      "CoffeeExpertise - Lastly, how would you rate your own coffee expertise?\n",
      "MonthlyCoffeeSpend - In total, much money do you typically spend on coffee in a month?\n",
      "LikeCoffeeTaste - Do you like the taste of coffee?\n",
      "KnowWhereCoffeeFrom - Do you know where your coffee comes from?\n",
      "HighestPaidCoffeeCup - What is the most you've ever paid for a cup of coffee?\n",
      "Willing_HighestPaidCoffeeCup - What is the most you'd ever be willing to pay for a cup of coffee?\n",
      "CafeCoffeeCup - Do you feel like you’re getting good value for your money when you buy coffee at a cafe?\n",
      "CoffeeEquipmentSpend - Approximately how much have you spent on coffee equipment in the past 5 years?\n",
      "EquipmentCoffeeCup - Do you feel like you’re getting good value for your money with regards to your coffee equipment?\n",
      "CoffeeDrinkLocation - Where do you typically drink coffee?\n",
      "HowHomeCoffeeBrew - How do you brew coffee at home?\n",
      "PurchaseCoffee - On the go, where do you typically purchase coffee?\n",
      "AddToCoffee - Do you usually add anything to your coffee?\n",
      "Dairy - What kind of dairy do you add?\n",
      "SugarSweetner - What kind of sugar or sweetener do you add?\n",
      "Flavorings - What kind of flavorings do you add?\n"
     ]
    }
   ],
   "source": [
    "#print(ds_data.columns)\n",
    "renamed_columns = ['ID', 'Age', 'DailyCoffeeCups', 'WorkMode', 'Gender', 'HighestEducation', 'Race', 'Employment', 'Children', 'Political',\n",
    "    'HomeBrewCoffee','FavoriteCoffeeDrink', 'Pre_PreferredCoffee', 'CoffeeStrength', 'RoastLevel', 'CaffeineAmount', 'CoffeeExpertise',\n",
    "    'MonthlyCoffeeSpend', 'LikeCoffeeTaste', 'KnowWhereCoffeeFrom', 'HighestPaidCoffeeCup', 'Willing_HighestPaidCoffeeCup','CafeCoffeeCup',\n",
    "    'CoffeeEquipmentSpend', 'EquipmentCoffeeCup','CoffeeDrinkLocation', 'HowHomeCoffeeBrew', 'PurchaseCoffee','AddToCoffee','Dairy', 'SugarSweetner','Flavorings','WhyDrinkCoffee']\n",
    "new_orig_dict = {}\n",
    "for i in range(0,32):\n",
    "    print(f\"{renamed_columns[i]} - {ds_data.columns[i]}\")\n",
    "    new_orig_dict[renamed_columns[i]] = ds_data.columns[i]"
   ]
  },
  {
   "cell_type": "code",
   "execution_count": 51,
   "metadata": {},
   "outputs": [],
   "source": [
    "# Rename columns\n",
    "ds_data.columns = renamed_columns"
   ]
  },
  {
   "cell_type": "code",
   "execution_count": 52,
   "metadata": {},
   "outputs": [
    {
     "name": "stdout",
     "output_type": "stream",
     "text": [
      "<class 'pandas.core.frame.DataFrame'>\n",
      "RangeIndex: 4042 entries, 0 to 4041\n",
      "Data columns (total 33 columns):\n",
      " #   Column                        Non-Null Count  Dtype  \n",
      "---  ------                        --------------  -----  \n",
      " 0   ID                            4042 non-null   object \n",
      " 1   Age                           4011 non-null   object \n",
      " 2   DailyCoffeeCups               3949 non-null   object \n",
      " 3   WorkMode                      3524 non-null   object \n",
      " 4   Gender                        3523 non-null   object \n",
      " 5   HighestEducation              3438 non-null   object \n",
      " 6   Race                          3418 non-null   object \n",
      " 7   Employment                    3419 non-null   object \n",
      " 8   Children                      3406 non-null   object \n",
      " 9   Political                     3289 non-null   object \n",
      " 10  HomeBrewCoffee                678 non-null    object \n",
      " 11  FavoriteCoffeeDrink           3980 non-null   object \n",
      " 12  Pre_PreferredCoffee           3958 non-null   object \n",
      " 13  CoffeeStrength                3916 non-null   object \n",
      " 14  RoastLevel                    3940 non-null   object \n",
      " 15  CaffeineAmount                3917 non-null   object \n",
      " 16  CoffeeExpertise               3938 non-null   float64\n",
      " 17  MonthlyCoffeeSpend            3511 non-null   object \n",
      " 18  LikeCoffeeTaste               3563 non-null   object \n",
      " 19  KnowWhereCoffeeFrom           3559 non-null   object \n",
      " 20  HighestPaidCoffeeCup          3527 non-null   object \n",
      " 21  Willing_HighestPaidCoffeeCup  3510 non-null   object \n",
      " 22  CafeCoffeeCup                 3500 non-null   object \n",
      " 23  CoffeeEquipmentSpend          3506 non-null   object \n",
      " 24  EquipmentCoffeeCup            3494 non-null   object \n",
      " 25  CoffeeDrinkLocation           3972 non-null   object \n",
      " 26  HowHomeCoffeeBrew             3657 non-null   object \n",
      " 27  PurchaseCoffee                710 non-null    object \n",
      " 28  AddToCoffee                   3959 non-null   object \n",
      " 29  Dairy                         1686 non-null   object \n",
      " 30  SugarSweetner                 512 non-null    object \n",
      " 31  Flavorings                    0 non-null      float64\n",
      " 32  WhyDrinkCoffee                3568 non-null   object \n",
      "dtypes: float64(2), object(31)\n",
      "memory usage: 1.0+ MB\n"
     ]
    }
   ],
   "source": [
    "ds_data.info()"
   ]
  },
  {
   "cell_type": "code",
   "execution_count": 53,
   "metadata": {},
   "outputs": [
    {
     "data": {
      "text/plain": [
       "Flavorings                      4042\n",
       "SugarSweetner                   3530\n",
       "HomeBrewCoffee                  3364\n",
       "PurchaseCoffee                  3332\n",
       "Dairy                           2356\n",
       "Political                        753\n",
       "Children                         636\n",
       "Race                             624\n",
       "Employment                       623\n",
       "HighestEducation                 604\n",
       "EquipmentCoffeeCup               548\n",
       "CafeCoffeeCup                    542\n",
       "CoffeeEquipmentSpend             536\n",
       "Willing_HighestPaidCoffeeCup     532\n",
       "MonthlyCoffeeSpend               531\n",
       "Gender                           519\n",
       "WorkMode                         518\n",
       "HighestPaidCoffeeCup             515\n",
       "KnowWhereCoffeeFrom              483\n",
       "LikeCoffeeTaste                  479\n",
       "WhyDrinkCoffee                   474\n",
       "HowHomeCoffeeBrew                385\n",
       "CoffeeStrength                   126\n",
       "CaffeineAmount                   125\n",
       "CoffeeExpertise                  104\n",
       "RoastLevel                       102\n",
       "DailyCoffeeCups                   93\n",
       "Pre_PreferredCoffee               84\n",
       "AddToCoffee                       83\n",
       "CoffeeDrinkLocation               70\n",
       "FavoriteCoffeeDrink               62\n",
       "Age                               31\n",
       "ID                                 0\n",
       "dtype: int64"
      ]
     },
     "execution_count": 53,
     "metadata": {},
     "output_type": "execute_result"
    }
   ],
   "source": [
    "ds_data.isna().sum().sort_values(ascending=False)"
   ]
  },
  {
   "cell_type": "code",
   "execution_count": 64,
   "metadata": {},
   "outputs": [
    {
     "data": {
      "text/plain": [
       "Flavorings          0\n",
       "SugarSweetner      82\n",
       "HomeBrewCoffee    170\n",
       "PurchaseCoffee     89\n",
       "Dairy             175\n",
       "dtype: int64"
      ]
     },
     "execution_count": 64,
     "metadata": {},
     "output_type": "execute_result"
    }
   ],
   "source": [
    "highest_null_columns = ds_data.isna().sum().sort_values(ascending=False).head().index\n",
    "ds_data[highest_null_columns].nunique()"
   ]
  },
  {
   "cell_type": "code",
   "execution_count": 81,
   "metadata": {},
   "outputs": [
    {
     "name": "stderr",
     "output_type": "stream",
     "text": [
      "C:\\Users\\kymno\\AppData\\Local\\Temp\\ipykernel_28400\\1889198058.py:2: SettingWithCopyWarning: \n",
      "A value is trying to be set on a copy of a slice from a DataFrame\n",
      "\n",
      "See the caveats in the documentation: https://pandas.pydata.org/pandas-docs/stable/user_guide/indexing.html#returning-a-view-versus-a-copy\n",
      "  ds_data.drop(columns=highest_null_columns[1:], inplace=True)\n"
     ]
    }
   ],
   "source": [
    "# Drop columns with the five highest null values of over half the row size\n",
    "ds_data.drop(columns=highest_null_columns, inplace=True)"
   ]
  },
  {
   "cell_type": "markdown",
   "metadata": {},
   "source": [
    "### Handling the Nulls\n",
    "Decide for these values if we need to impute nulls for some columns and/or drop the rows with nulls"
   ]
  },
  {
   "cell_type": "markdown",
   "metadata": {},
   "source": [
    "### 2.1A Data Cleaning\n",
    "\n",
    "- Deal with Missing Values \n",
    "- Checking for Duplicates\n",
    "- changing object formatted columns to Int\n"
   ]
  },
  {
   "cell_type": "code",
   "execution_count": 82,
   "metadata": {},
   "outputs": [
    {
     "data": {
      "text/plain": [
       "Political                       753\n",
       "Children                        636\n",
       "Race                            624\n",
       "Employment                      623\n",
       "HighestEducation                604\n",
       "EquipmentCoffeeCup              548\n",
       "CafeCoffeeCup                   542\n",
       "CoffeeEquipmentSpend            536\n",
       "Willing_HighestPaidCoffeeCup    532\n",
       "MonthlyCoffeeSpend              531\n",
       "Gender                          519\n",
       "WorkMode                        518\n",
       "HighestPaidCoffeeCup            515\n",
       "KnowWhereCoffeeFrom             483\n",
       "LikeCoffeeTaste                 479\n",
       "WhyDrinkCoffee                  474\n",
       "HowHomeCoffeeBrew               385\n",
       "CoffeeStrength                  126\n",
       "CaffeineAmount                  125\n",
       "CoffeeExpertise                 104\n",
       "RoastLevel                      102\n",
       "DailyCoffeeCups                  93\n",
       "Pre_PreferredCoffee              84\n",
       "AddToCoffee                      83\n",
       "CoffeeDrinkLocation              70\n",
       "FavoriteCoffeeDrink              62\n",
       "Age                              31\n",
       "ID                                0\n",
       "dtype: int64"
      ]
     },
     "execution_count": 82,
     "metadata": {},
     "output_type": "execute_result"
    }
   ],
   "source": [
    "ds_data.isna().sum().sort_values(ascending=False)"
   ]
  },
  {
   "cell_type": "code",
   "execution_count": 84,
   "metadata": {},
   "outputs": [
    {
     "data": {
      "text/plain": [
       "Democrat          1768\n",
       "No affiliation     826\n",
       "Independent        507\n",
       "Republican         188\n",
       "Name: Political, dtype: int64"
      ]
     },
     "execution_count": 84,
     "metadata": {},
     "output_type": "execute_result"
    }
   ],
   "source": [
    "# The Political column has the most nulls\n",
    "ds_data['Political'].value_counts()"
   ]
  },
  {
   "cell_type": "code",
   "execution_count": 85,
   "metadata": {},
   "outputs": [
    {
     "name": "stderr",
     "output_type": "stream",
     "text": [
      "C:\\Users\\kymno\\AppData\\Local\\Temp\\ipykernel_28400\\3271807493.py:2: SettingWithCopyWarning: \n",
      "A value is trying to be set on a copy of a slice from a DataFrame\n",
      "\n",
      "See the caveats in the documentation: https://pandas.pydata.org/pandas-docs/stable/user_guide/indexing.html#returning-a-view-versus-a-copy\n",
      "  ds_data['Political'].fillna('Not Specified', inplace=True)\n"
     ]
    }
   ],
   "source": [
    "# Impute with none given\n",
    "ds_data['Political'].fillna('Not Specified', inplace=True)"
   ]
  },
  {
   "cell_type": "markdown",
   "metadata": {},
   "source": [
    "Since not having any children is not listed in the value counts, then it makes sense to replace the null values in the column with 0.  "
   ]
  },
  {
   "cell_type": "code",
   "execution_count": 86,
   "metadata": {},
   "outputs": [
    {
     "data": {
      "text/plain": [
       "None           2550\n",
       "2               402\n",
       "1               310\n",
       "3                92\n",
       "More than 3      52\n",
       "Name: Children, dtype: int64"
      ]
     },
     "execution_count": 86,
     "metadata": {},
     "output_type": "execute_result"
    }
   ],
   "source": [
    "ds_data['Children'].value_counts()"
   ]
  },
  {
   "cell_type": "code",
   "execution_count": 87,
   "metadata": {},
   "outputs": [
    {
     "name": "stderr",
     "output_type": "stream",
     "text": [
      "C:\\Users\\kymno\\AppData\\Local\\Temp\\ipykernel_28400\\1531306829.py:2: SettingWithCopyWarning: \n",
      "A value is trying to be set on a copy of a slice from a DataFrame\n",
      "\n",
      "See the caveats in the documentation: https://pandas.pydata.org/pandas-docs/stable/user_guide/indexing.html#returning-a-view-versus-a-copy\n",
      "  ds_data['Children'].fillna(0, inplace=True)\n",
      "C:\\Users\\kymno\\AppData\\Local\\Temp\\ipykernel_28400\\1531306829.py:3: SettingWithCopyWarning: \n",
      "A value is trying to be set on a copy of a slice from a DataFrame\n",
      "\n",
      "See the caveats in the documentation: https://pandas.pydata.org/pandas-docs/stable/user_guide/indexing.html#returning-a-view-versus-a-copy\n",
      "  ds_data['Children'].replace('None', 0, inplace=True)\n"
     ]
    }
   ],
   "source": [
    "# Impute the blanks with 0 and replace None with 0\n",
    "ds_data['Children'].fillna(0, inplace=True)\n",
    "ds_data['Children'].replace('None', 0, inplace=True)"
   ]
  },
  {
   "cell_type": "code",
   "execution_count": null,
   "metadata": {},
   "outputs": [],
   "source": [
    "d_df = desc_df.dropna().reset_index()\n",
    "d_df.info()"
   ]
  },
  {
   "cell_type": "code",
   "execution_count": null,
   "metadata": {},
   "outputs": [],
   "source": [
    "# Checking for duplicates\n",
    "d_df.duplicated().sum()"
   ]
  },
  {
   "cell_type": "code",
   "execution_count": null,
   "metadata": {},
   "outputs": [],
   "source": [
    "d_df['Gender'].value_counts()"
   ]
  },
  {
   "cell_type": "code",
   "execution_count": null,
   "metadata": {},
   "outputs": [],
   "source": [
    "pie_subplots(d_df)"
   ]
  },
  {
   "cell_type": "markdown",
   "metadata": {},
   "source": [
    "Since each column has between 3 and 7 different entry options, I will apply a label encoding for each of the columns\n"
   ]
  },
  {
   "cell_type": "code",
   "execution_count": null,
   "metadata": {},
   "outputs": [],
   "source": [
    "d_df.iloc[:,1].value_counts()"
   ]
  },
  {
   "cell_type": "code",
   "execution_count": null,
   "metadata": {},
   "outputs": [],
   "source": [
    "le = LabelEncoder()\n",
    "d_df['le_Age'] = le.fit_transform(d_df.iloc[:,1])\n",
    "d_df['le_Age'].value_counts()"
   ]
  },
  {
   "cell_type": "code",
   "execution_count": null,
   "metadata": {},
   "outputs": [],
   "source": [
    "test_age = le.inverse_transform(d_df['Age'])\n",
    "test_age"
   ]
  },
  {
   "cell_type": "code",
   "execution_count": null,
   "metadata": {},
   "outputs": [],
   "source": [
    "d_df.columns"
   ]
  },
  {
   "cell_type": "code",
   "execution_count": null,
   "metadata": {},
   "outputs": [],
   "source": [
    "d_df.iloc[:,2].value_counts()"
   ]
  },
  {
   "cell_type": "code",
   "execution_count": null,
   "metadata": {},
   "outputs": [],
   "source": [
    "d_df['CoffeeCups'] = d_df.iloc[:,2].map({\"Less than 1\":0, \"1\":1, \"2\":2, \"3\":3, \"4\":4, \"More than 4\":5})\n",
    "d_df['CoffeeCups'].value_counts()"
   ]
  },
  {
   "cell_type": "code",
   "execution_count": null,
   "metadata": {},
   "outputs": [],
   "source": [
    "d_df.iloc[:,3].value_counts()"
   ]
  },
  {
   "cell_type": "code",
   "execution_count": null,
   "metadata": {},
   "outputs": [],
   "source": [
    "d_df['WorkLocation'] = le.fit_transform(d_df.iloc[:,3])\n",
    "d_df['WorkLocation'].value_counts()"
   ]
  },
  {
   "cell_type": "code",
   "execution_count": null,
   "metadata": {},
   "outputs": [],
   "source": [
    "d_df['Gender'].value_counts()"
   ]
  },
  {
   "cell_type": "code",
   "execution_count": null,
   "metadata": {},
   "outputs": [],
   "source": [
    "d_df['le_Gender'] = le.fit_transform(d_df.iloc[:,4])\n",
    "d_df['le_Gender'].value_counts()"
   ]
  },
  {
   "cell_type": "code",
   "execution_count": null,
   "metadata": {},
   "outputs": [],
   "source": [
    "d_df['Education Level'].value_counts()"
   ]
  },
  {
   "cell_type": "code",
   "execution_count": null,
   "metadata": {},
   "outputs": [],
   "source": [
    "d_df['le_HighestEducation'] = le.fit_transform(d_df.iloc[:,5])\n",
    "d_df['le_HighestEducation'].value_counts()"
   ]
  },
  {
   "cell_type": "code",
   "execution_count": null,
   "metadata": {},
   "outputs": [],
   "source": [
    "d_df['Ethnicity/Race'].value_counts()"
   ]
  },
  {
   "cell_type": "code",
   "execution_count": null,
   "metadata": {},
   "outputs": [],
   "source": [
    "d_df['le_Race']=le.fit_transform(d_df.iloc[:,6])\n",
    "d_df['le_Race'].value_counts()"
   ]
  },
  {
   "cell_type": "code",
   "execution_count": null,
   "metadata": {},
   "outputs": [],
   "source": [
    "d_df['Employment Status'].value_counts()"
   ]
  },
  {
   "cell_type": "code",
   "execution_count": null,
   "metadata": {},
   "outputs": [],
   "source": [
    "d_df['le_Employment'] = le.fit_transform(d_df.iloc[:,7])\n",
    "d_df['le_Employment'].value_counts()"
   ]
  },
  {
   "cell_type": "code",
   "execution_count": null,
   "metadata": {},
   "outputs": [],
   "source": [
    "d_df['Children'] = d_df.iloc[:,8].map({\"0\":0, \"1\":1, \"2\":2, \"3\":3, \"More than 3\":4})\n",
    "d_df['Children'].value_counts()"
   ]
  },
  {
   "cell_type": "code",
   "execution_count": null,
   "metadata": {},
   "outputs": [],
   "source": [
    "d_df['Children'] = d_df['Children'].astype(int)"
   ]
  },
  {
   "cell_type": "code",
   "execution_count": null,
   "metadata": {},
   "outputs": [],
   "source": [
    "d_df['Political Affiliation'].value_counts()"
   ]
  },
  {
   "cell_type": "code",
   "execution_count": null,
   "metadata": {},
   "outputs": [],
   "source": [
    "d_df['PoliticalParty']=le.fit_transform(d_df.iloc[:, 9])\n",
    "d_df['PoliticalParty'].value_counts()"
   ]
  },
  {
   "cell_type": "code",
   "execution_count": null,
   "metadata": {},
   "outputs": [],
   "source": [
    "d_df.info()"
   ]
  },
  {
   "cell_type": "code",
   "execution_count": null,
   "metadata": {},
   "outputs": [],
   "source": [
    "df = d_df.iloc[:, 10:]"
   ]
  },
  {
   "cell_type": "markdown",
   "metadata": {},
   "source": [
    "## 2.1B Survey Results"
   ]
  },
  {
   "cell_type": "code",
   "execution_count": null,
   "metadata": {},
   "outputs": [],
   "source": [
    "survey_df.info()"
   ]
  },
  {
   "cell_type": "code",
   "execution_count": null,
   "metadata": {},
   "outputs": [],
   "source": [
    "s_df=survey_df.iloc[:,1:].dropna()\n",
    "s_df.info()"
   ]
  },
  {
   "cell_type": "code",
   "execution_count": null,
   "metadata": {},
   "outputs": [],
   "source": [
    "s_df.iloc[:, 0].value_counts()"
   ]
  },
  {
   "cell_type": "code",
   "execution_count": null,
   "metadata": {},
   "outputs": [],
   "source": [
    "pie_subplots(s_df)"
   ]
  },
  {
   "cell_type": "code",
   "execution_count": null,
   "metadata": {},
   "outputs": [],
   "source": [
    "s_df['FavoriteDrink']=le.fit_transform(s_df.iloc[:, 0])\n",
    "s_df['FavoriteDrink'].value_counts()"
   ]
  },
  {
   "cell_type": "code",
   "execution_count": null,
   "metadata": {},
   "outputs": [],
   "source": [
    "s_df.iloc[:, 1].value_counts()"
   ]
  },
  {
   "cell_type": "code",
   "execution_count": null,
   "metadata": {},
   "outputs": [],
   "source": [
    "s_df['Pre_PreferredCoffee']=le.fit_transform(s_df.iloc[:, 1])\n",
    "s_df['Pre_PreferredCoffee'].value_counts()"
   ]
  },
  {
   "cell_type": "code",
   "execution_count": null,
   "metadata": {},
   "outputs": [],
   "source": [
    "s_df.iloc[:, 2].value_counts()"
   ]
  },
  {
   "cell_type": "code",
   "execution_count": null,
   "metadata": {},
   "outputs": [],
   "source": [
    "s_df['CoffeeStrength']=le.fit_transform(s_df.iloc[:, 2])\n",
    "s_df['CoffeeStrength'].value_counts()"
   ]
  },
  {
   "cell_type": "code",
   "execution_count": null,
   "metadata": {},
   "outputs": [],
   "source": [
    "s_df.iloc[:, 3].value_counts()"
   ]
  },
  {
   "cell_type": "code",
   "execution_count": null,
   "metadata": {},
   "outputs": [],
   "source": [
    "s_df['CoffeeRoast']=le.fit_transform(s_df.iloc[:, 3])\n",
    "s_df['CoffeeRoast'].value_counts()"
   ]
  },
  {
   "cell_type": "code",
   "execution_count": null,
   "metadata": {},
   "outputs": [],
   "source": [
    "s_df.iloc[:, 4].value_counts()"
   ]
  },
  {
   "cell_type": "code",
   "execution_count": null,
   "metadata": {},
   "outputs": [],
   "source": [
    "s_df['CaffeineLevel']=le.fit_transform(s_df.iloc[:, 4])\n",
    "s_df['CaffeineLevel'].value_counts()"
   ]
  },
  {
   "cell_type": "code",
   "execution_count": null,
   "metadata": {},
   "outputs": [],
   "source": [
    "s_df.iloc[:, 6].value_counts()"
   ]
  },
  {
   "cell_type": "code",
   "execution_count": null,
   "metadata": {},
   "outputs": [],
   "source": [
    "s_df['CoffeeSpend']=le.fit_transform(s_df.iloc[:, 6])\n",
    "s_df['CoffeeSpend'].value_counts()"
   ]
  },
  {
   "cell_type": "code",
   "execution_count": null,
   "metadata": {},
   "outputs": [],
   "source": [
    "s_df.iloc[:, 9].value_counts()"
   ]
  },
  {
   "cell_type": "code",
   "execution_count": null,
   "metadata": {},
   "outputs": [],
   "source": [
    "s_df['HighestCoffeeSpend']=le.fit_transform(s_df.iloc[:, 9])\n",
    "s_df['HighestCoffeeSpend'].value_counts()"
   ]
  },
  {
   "cell_type": "code",
   "execution_count": null,
   "metadata": {},
   "outputs": [],
   "source": [
    "s_df.iloc[:, 10].value_counts()"
   ]
  },
  {
   "cell_type": "code",
   "execution_count": null,
   "metadata": {},
   "outputs": [],
   "source": [
    "s_df['Willing_HighestCoffeeSpend']=le.fit_transform(s_df.iloc[:, 10])\n",
    "s_df['Willing_HighestCoffeeSpend'].value_counts()"
   ]
  },
  {
   "cell_type": "code",
   "execution_count": null,
   "metadata": {},
   "outputs": [],
   "source": [
    "s_df.iloc[:, 12].value_counts()"
   ]
  },
  {
   "cell_type": "code",
   "execution_count": null,
   "metadata": {},
   "outputs": [],
   "source": [
    "s_df['CoffeeEquipmentSpend']=le.fit_transform(s_df.iloc[:, 12])\n",
    "s_df['CoffeeEquipmentSpend'].value_counts()"
   ]
  },
  {
   "cell_type": "code",
   "execution_count": null,
   "metadata": {},
   "outputs": [],
   "source": [
    "# Convert Yes No questions into 0s and 1s\n",
    "yes_no_cols = [7,8,11,13]\n",
    "yes_no_new_names = [\"CoffeeTest\",\"CoffeeFrom\", \"CafeCoffeeValue\", \"EquipCoffeeValue\"]\n",
    "for i in range(0, len(yes_no_cols)):\n",
    "    s_df[yes_no_new_names[i]] = s_df.iloc[:,yes_no_cols[i]].map({\"No\":0, \"Yes\":1})"
   ]
  },
  {
   "cell_type": "code",
   "execution_count": null,
   "metadata": {},
   "outputs": [],
   "source": [
    "s_df[yes_no_new_names].describe().T"
   ]
  },
  {
   "cell_type": "markdown",
   "metadata": {},
   "source": [
    "### Convert the Object columns to Int columns using the Label Encoder"
   ]
  },
  {
   "cell_type": "code",
   "execution_count": null,
   "metadata": {},
   "outputs": [],
   "source": [
    "pie_subplots(s_df.iloc[:,1:])"
   ]
  },
  {
   "cell_type": "code",
   "execution_count": null,
   "metadata": {},
   "outputs": [],
   "source": [
    "s_df['CoffeeExpertiseRating']=s_df.iloc[:,5]\n",
    "s_df.iloc[:,14:].info()"
   ]
  },
  {
   "cell_type": "code",
   "execution_count": null,
   "metadata": {},
   "outputs": [],
   "source": [
    "df_2 = s_df.iloc[:,14:]"
   ]
  },
  {
   "cell_type": "code",
   "execution_count": null,
   "metadata": {},
   "outputs": [],
   "source": [
    "survey_corr = df_2.corr()\n",
    "fig, ax = plt.subplots(figsize=(15,10)) \n",
    "sns.heatmap(df_2.corr())"
   ]
  },
  {
   "cell_type": "code",
   "execution_count": null,
   "metadata": {},
   "outputs": [],
   "source": [
    "survey_corr"
   ]
  }
 ],
 "metadata": {
  "kernelspec": {
   "display_name": "py38",
   "language": "python",
   "name": "python3"
  },
  "language_info": {
   "codemirror_mode": {
    "name": "ipython",
    "version": 3
   },
   "file_extension": ".py",
   "mimetype": "text/x-python",
   "name": "python",
   "nbconvert_exporter": "python",
   "pygments_lexer": "ipython3",
   "version": "3.8.18"
  }
 },
 "nbformat": 4,
 "nbformat_minor": 2
}
