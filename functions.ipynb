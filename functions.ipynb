{
 "cells": [
  {
   "cell_type": "code",
   "execution_count": 26,
   "metadata": {},
   "outputs": [],
   "source": [
    "\n",
    "def decode(message_file):\n",
    "    my_dict = {}\n",
    "    with open(message_file) as file:\n",
    "        for line in file:\n",
    "            str_list = line.split()\n",
    "            if len(str_list) == 2:\n",
    "                val = int(str_list[0])\n",
    "                my_dict[val]=str_list[1]\n",
    "       \n",
    "    num_keys = len(my_dict.keys())         \n",
    "    keys_sorted = sorted(my_dict.keys())\n",
    "\n",
    "    ctr = 0\n",
    "    str = ''\n",
    "    diff = 2\n",
    "    while( ctr < num_keys):\n",
    "        str = str + my_dict[keys_sorted[ctr]] + ' '\n",
    "        ctr = ctr + diff \n",
    "        diff = diff + 1\n",
    "    \n",
    "            \n",
    "    return str.strip()\n",
    "            \n",
    "    \n",
    "\n",
    "        "
   ]
  },
  {
   "cell_type": "code",
   "execution_count": null,
   "metadata": {},
   "outputs": [],
   "source": []
  },
  {
   "cell_type": "code",
   "execution_count": 27,
   "metadata": {},
   "outputs": [],
   "source": [
    "file_path = \"coding_qual_input.txt\"\n",
    "result = decode(file_path)"
   ]
  },
  {
   "cell_type": "code",
   "execution_count": 28,
   "metadata": {},
   "outputs": [
    {
     "data": {
      "text/plain": [
       "'farm felt touch temperature pitch we ease visit sat element like good excite area opposite think parent machine too thus dad time mile term'"
      ]
     },
     "execution_count": 28,
     "metadata": {},
     "output_type": "execute_result"
    }
   ],
   "source": [
    "result"
   ]
  },
  {
   "cell_type": "code",
   "execution_count": null,
   "metadata": {},
   "outputs": [],
   "source": []
  },
  {
   "cell_type": "code",
   "execution_count": 12,
   "metadata": {},
   "outputs": [
    {
     "data": {
      "text/plain": [
       "dict_keys([3, 6, 2, 4, 1, 5])"
      ]
     },
     "execution_count": 12,
     "metadata": {},
     "output_type": "execute_result"
    }
   ],
   "source": [
    "result.keys()"
   ]
  },
  {
   "cell_type": "code",
   "execution_count": 13,
   "metadata": {},
   "outputs": [
    {
     "data": {
      "text/plain": [
       "[1, 2, 3, 4, 5, 6]"
      ]
     },
     "execution_count": 13,
     "metadata": {},
     "output_type": "execute_result"
    }
   ],
   "source": [
    "sk = sorted(result.keys())\n",
    "sk"
   ]
  },
  {
   "cell_type": "code",
   "execution_count": 14,
   "metadata": {},
   "outputs": [
    {
     "data": {
      "text/plain": [
       "6"
      ]
     },
     "execution_count": 14,
     "metadata": {},
     "output_type": "execute_result"
    }
   ],
   "source": [
    "len(result.keys())"
   ]
  },
  {
   "cell_type": "code",
   "execution_count": 35,
   "metadata": {},
   "outputs": [],
   "source": [
    "def create_staircase(nums):\n",
    "  while len(nums) != 0:\n",
    "    step = 1\n",
    "    subsets = []\n",
    "    if len(nums) >= step:\n",
    "      subsets.append(nums[0:step])\n",
    "      nums = nums[step:]\n",
    "      step += 1\n",
    "    else:\n",
    "      return False\n",
    "\n",
    "  return subsets"
   ]
  },
  {
   "cell_type": "code",
   "execution_count": 36,
   "metadata": {},
   "outputs": [
    {
     "data": {
      "text/plain": [
       "[[6]]"
      ]
     },
     "execution_count": 36,
     "metadata": {},
     "output_type": "execute_result"
    }
   ],
   "source": [
    "res = create_staircase([1,2,3,4,5,6])\n",
    "res"
   ]
  },
  {
   "cell_type": "code",
   "execution_count": 32,
   "metadata": {},
   "outputs": [],
   "source": [
    "def create_staircase2(nums):\n",
    "  step = 1\n",
    "  subsets = []\n",
    "  while len(nums) != 0:\n",
    "    if len(nums) >= step:\n",
    "      subsets.append(nums[0:step])\n",
    "      nums = nums[step:]\n",
    "      step += 1\n",
    "    else:\n",
    "      return False\n",
    "      \n",
    "  return subsets"
   ]
  },
  {
   "cell_type": "code",
   "execution_count": 34,
   "metadata": {},
   "outputs": [
    {
     "data": {
      "text/plain": [
       "False"
      ]
     },
     "execution_count": 34,
     "metadata": {},
     "output_type": "execute_result"
    }
   ],
   "source": [
    "res2 = create_staircase2([1,2,3,4,5,6,7])\n",
    "res2"
   ]
  }
 ],
 "metadata": {
  "kernelspec": {
   "display_name": "py38",
   "language": "python",
   "name": "python3"
  },
  "language_info": {
   "codemirror_mode": {
    "name": "ipython",
    "version": 3
   },
   "file_extension": ".py",
   "mimetype": "text/x-python",
   "name": "python",
   "nbconvert_exporter": "python",
   "pygments_lexer": "ipython3",
   "version": "3.8.18"
  }
 },
 "nbformat": 4,
 "nbformat_minor": 2
}
